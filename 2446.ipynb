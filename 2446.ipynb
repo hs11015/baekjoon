{
 "cells": [
  {
   "cell_type": "code",
   "execution_count": null,
   "id": "d1fd3208",
   "metadata": {},
   "outputs": [],
   "source": [
    "N=int(input())\n",
    "for i in range(N):\n",
    "    print(\" \"*i+\"*\"*(2*(N-i)-1))\n",
    "for i in range(N-2,-1,-1):\n",
    "    print(\" \"*i+\"*\"*(2*(N-i)-1))"
   ]
  }
 ],
 "metadata": {
  "kernelspec": {
   "display_name": "Python 3 (ipykernel)",
   "language": "python",
   "name": "python3"
  },
  "language_info": {
   "codemirror_mode": {
    "name": "ipython",
    "version": 3
   },
   "file_extension": ".py",
   "mimetype": "text/x-python",
   "name": "python",
   "nbconvert_exporter": "python",
   "pygments_lexer": "ipython3",
   "version": "3.9.7"
  }
 },
 "nbformat": 4,
 "nbformat_minor": 5
}
